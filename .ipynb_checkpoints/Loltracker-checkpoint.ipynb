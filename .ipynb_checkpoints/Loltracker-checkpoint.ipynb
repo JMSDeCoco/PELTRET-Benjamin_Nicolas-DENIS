{
 "cells": [
  {
   "cell_type": "code",
   "execution_count": 74,
   "id": "d6a97548",
   "metadata": {
    "scrolled": true
   },
   "outputs": [
    {
     "name": "stderr",
     "output_type": "stream",
     "text": [
      "C:\\Users\\nicol\\AppData\\Local\\Temp\\ipykernel_38900\\1387775053.py:10: DeprecationWarning: executable_path has been deprecated, please pass in a Service object\n",
      "  driver = webdriver.Chrome(DRIVER_PATH)\n"
     ]
    },
    {
     "ename": "AttributeError",
     "evalue": "'WebDriver' object has no attribute 'exit'",
     "output_type": "error",
     "traceback": [
      "\u001b[1;31m---------------------------------------------------------------------------\u001b[0m",
      "\u001b[1;31mAttributeError\u001b[0m                            Traceback (most recent call last)",
      "Input \u001b[1;32mIn [74]\u001b[0m, in \u001b[0;36m<cell line: 52>\u001b[1;34m()\u001b[0m\n\u001b[0;32m     49\u001b[0m     data[cpt] \u001b[38;5;241m=\u001b[39m data_temp\n\u001b[0;32m     50\u001b[0m     cpt\u001b[38;5;241m+\u001b[39m\u001b[38;5;241m=\u001b[39m\u001b[38;5;241m1\u001b[39m\n\u001b[1;32m---> 52\u001b[0m \u001b[43mdriver\u001b[49m\u001b[38;5;241;43m.\u001b[39;49m\u001b[43mexit\u001b[49m()\n",
      "\u001b[1;31mAttributeError\u001b[0m: 'WebDriver' object has no attribute 'exit'"
     ]
    }
   ],
   "source": [
    "from selenium import webdriver\n",
    "from selenium.webdriver.common.by import By\n",
    "import time\n",
    "import json\n",
    "\n",
    "\n",
    "DRIVER_PATH = './chromedriver'\n",
    "BASE_URL = 'https://loltracker.com/'\n",
    "\n",
    "driver = webdriver.Chrome(DRIVER_PATH)\n",
    "driver.get(BASE_URL)\n",
    "\n",
    "#driver.maximize_window()\n",
    "\n",
    "articles = driver.find_element(By.CLASS_NAME, 'view-all-blogs')\n",
    "articles.find_element(By.TAG_NAME, 'a').click()\n",
    "\n",
    "selections = driver.find_elements(By.CLASS_NAME, 'eb-post-listing__item')\n",
    "data = {}\n",
    "cpt = 0\n",
    "\n",
    "for element in selections:\n",
    "    data_temp = {}\n",
    "    try:\n",
    "        data_temp['title'] = element.text.split('\\n')[0]\n",
    "    except:\n",
    "        data_temp['title'] = None\n",
    "    try:\n",
    "        data_temp['date'] = element.text.split('\\n')[1]\n",
    "    except:\n",
    "        data_temp['date'] = None\n",
    "    try:\n",
    "        data_temp['author'] = element.text.split('\\n')[2]\n",
    "    except:\n",
    "        data_temp['author'] = None\n",
    "    try:\n",
    "        data_temp['desc'] = element.text.split('\\n')[3]\n",
    "    except:\n",
    "        data_temp['desc'] = None\n",
    "    try:\n",
    "        data_temp['keys'] = '-'.join(element.text.split('\\n')[5:])\n",
    "    except:\n",
    "        data_temp['keys'] = None\n",
    "    try:\n",
    "        data_temp['img'] = element.find_element(By.CLASS_NAME, 'eb-post-thumb.is-left').find_element(By.TAG_NAME,'img').get_attribute('src')\n",
    "    except:\n",
    "        data_temp['img']  \n",
    "        \n",
    "    data[cpt] = data_temp\n",
    "    cpt+=1\n",
    "\n",
    "driver.close()\n",
    "    "
   ]
  },
  {
   "cell_type": "code",
   "execution_count": 61,
   "id": "827d0a76",
   "metadata": {},
   "outputs": [],
   "source": [
    "with open('loltracker.json', 'w', encoding='utf8') as f:\n",
    "    json.dump(data, f, indent=2)"
   ]
  },
  {
   "cell_type": "code",
   "execution_count": 54,
   "id": "f199ec50",
   "metadata": {},
   "outputs": [],
   "source": [
    "with open('loltracker.json', 'w', encoding='utf8') as f:\n",
    "    f.write(str(data))"
   ]
  },
  {
   "cell_type": "code",
   "execution_count": 63,
   "id": "2effa8a0",
   "metadata": {},
   "outputs": [],
   "source": [
    "with open('loltracker.json') as f:\n",
    "    data2 = json.load(f)"
   ]
  },
  {
   "cell_type": "code",
   "execution_count": 73,
   "id": "b93a20be",
   "metadata": {
    "scrolled": true
   },
   "outputs": [],
   "source": [
    "with open(\"filename.txt\", \"wb\") as f:\n",
    "    f.write(str(data).encode(\"UTF-8\"))"
   ]
  },
  {
   "cell_type": "code",
   "execution_count": null,
   "id": "71511457",
   "metadata": {},
   "outputs": [],
   "source": []
  }
 ],
 "metadata": {
  "kernelspec": {
   "display_name": "Python 3 (ipykernel)",
   "language": "python",
   "name": "python3"
  },
  "language_info": {
   "codemirror_mode": {
    "name": "ipython",
    "version": 3
   },
   "file_extension": ".py",
   "mimetype": "text/x-python",
   "name": "python",
   "nbconvert_exporter": "python",
   "pygments_lexer": "ipython3",
   "version": "3.9.12"
  }
 },
 "nbformat": 4,
 "nbformat_minor": 5
}
