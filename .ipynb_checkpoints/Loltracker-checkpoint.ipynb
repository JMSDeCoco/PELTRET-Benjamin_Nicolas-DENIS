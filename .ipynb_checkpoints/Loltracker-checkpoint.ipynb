{
 "cells": [
  {
   "cell_type": "code",
   "execution_count": null,
   "id": "a4592cb4",
   "metadata": {
    "scrolled": true
   },
   "outputs": [],
   "source": [
    "from selenium import webdriver\n",
    "from selenium.webdriver.common.by import By\n",
    "import time\n",
    "import json\n",
    "import sys\n",
    "\n",
    "DRIVER_PATH = './chromedriver'\n",
    "BASE_URL = 'https://loltracker.com/'\n",
    "\n",
    "driver = webdriver.Chrome(DRIVER_PATH)\n",
    "\n",
    "\n",
    "def collect_data(n: int):\n",
    "\n",
    "    driver.get(BASE_URL)\n",
    "    articles = driver.find_element(By.CLASS_NAME, 'view-all-blogs')\n",
    "    articles.find_element(By.TAG_NAME, 'a').click()\n",
    "    driver.maximize_window()\n",
    "    newUrl = driver.current_url\n",
    "    data = []\n",
    "    for n in range(0, n):\n",
    "        driver.get(newUrl + f'?start={n*50}')\n",
    "        selections = driver.find_elements(\n",
    "            By.CLASS_NAME, 'eb-post-listing__item')\n",
    "        for element in selections:\n",
    "            data_temp = {}\n",
    "            try:\n",
    "                data_temp['title'] = element.text.split('\\n')[0]\n",
    "            except:\n",
    "                data_temp['title'] = None\n",
    "\n",
    "            try:\n",
    "                data_temp['date'] = element.text.split('\\n')[1]\n",
    "            except:\n",
    "                data_temp['date'] = None\n",
    "\n",
    "            try:\n",
    "                data_temp['author'] = element.text.split('\\n')[2]\n",
    "            except:\n",
    "                data_temp['author'] = None\n",
    "\n",
    "            try:\n",
    "                data_temp['desc'] = element.text.split('\\n')[3]\n",
    "            except:\n",
    "                data_temp['desc'] = None\n",
    "\n",
    "            try:\n",
    "                data_temp['keys'] = '-'.join(element.text.split('\\n')[5:])\n",
    "            except:\n",
    "                data_temp['keys'] = None\n",
    "\n",
    "            try:\n",
    "                data_temp['img'] = element.find_element(\n",
    "                    By.CLASS_NAME, 'eb-post-thumb.is-left').find_element(By.TAG_NAME, 'img').get_attribute('src')\n",
    "            except:\n",
    "                data_temp['img'] = None\n",
    "\n",
    "            data.append(data_temp)\n",
    "    return data\n",
    "\n",
    "\n",
    "def createJson(n):\n",
    "    with open(\"loltracker.json\", \"wb\") as f:\n",
    "        f.write(str(collect_data(n)).encode(\"UTF-8\"))\n",
    "\n",
    "createJson(3)\n",
    "driver.close()"
   ]
  },
  {
   "cell_type": "code",
   "execution_count": 83,
   "id": "b206e504",
   "metadata": {
    "scrolled": false
   },
   "outputs": [
    {
     "name": "stderr",
     "output_type": "stream",
     "text": [
      "C:\\Users\\nicol\\AppData\\Local\\Temp\\ipykernel_38900\\1455684896.py:10: DeprecationWarning: executable_path has been deprecated, please pass in a Service object\n",
      "  driver = webdriver.Chrome(DRIVER_PATH)\n"
     ]
    }
   ],
   "source": [
    "from lib2to3.pgen2 import driver\n",
    "from selenium import webdriver\n",
    "from selenium.webdriver.common.by import By\n",
    "import time\n",
    "import json\n",
    "\n",
    "DRIVER_PATH = './chromedriver'\n",
    "BASE_URL = 'https://loltracker.com/'\n",
    "\n",
    "driver = webdriver.Chrome(DRIVER_PATH)\n",
    "driver.get(BASE_URL)\n",
    "articles = driver.find_element(By.CLASS_NAME, 'view-all-blogs')\n",
    "articles.find_element(By.TAG_NAME, 'a').click()"
   ]
  },
  {
   "cell_type": "code",
   "execution_count": 88,
   "id": "4a46bb15",
   "metadata": {},
   "outputs": [
    {
     "data": {
      "text/plain": [
       "'https://loltracker.com/articles'"
      ]
     },
     "execution_count": 88,
     "metadata": {},
     "output_type": "execute_result"
    }
   ],
   "source": [
    "driver.current_url"
   ]
  },
  {
   "cell_type": "code",
   "execution_count": 61,
   "id": "e053a617",
   "metadata": {},
   "outputs": [],
   "source": [
    "with open('loltracker.json', 'w', encoding='utf8') as f:\n",
    "    json.dump(data, f, indent=2)"
   ]
  },
  {
   "cell_type": "code",
   "execution_count": 54,
   "id": "15071798",
   "metadata": {},
   "outputs": [],
   "source": [
    "with open('loltracker.json', 'w', encoding='utf8') as f:\n",
    "    f.write(str(data))"
   ]
  },
  {
   "cell_type": "code",
   "execution_count": 63,
   "id": "113e496e",
   "metadata": {},
   "outputs": [],
   "source": [
    "with open('loltracker.json') as f:\n",
    "    data2 = json.load(f)"
   ]
  },
  {
   "cell_type": "code",
   "execution_count": 73,
   "id": "3043f8e5",
   "metadata": {
    "scrolled": true
   },
   "outputs": [],
   "source": [
    "with open(\"filename.txt\", \"wb\") as f:\n",
    "    f.write(str(data).encode(\"UTF-8\"))"
   ]
  },
  {
   "cell_type": "code",
   "execution_count": null,
   "id": "8dfb1db5",
   "metadata": {},
   "outputs": [],
   "source": []
  }
 ],
 "metadata": {
  "kernelspec": {
   "display_name": "Python 3 (ipykernel)",
   "language": "python",
   "name": "python3"
  },
  "language_info": {
   "codemirror_mode": {
    "name": "ipython",
    "version": 3
   },
   "file_extension": ".py",
   "mimetype": "text/x-python",
   "name": "python",
   "nbconvert_exporter": "python",
   "pygments_lexer": "ipython3",
   "version": "3.9.12"
  }
 },
 "nbformat": 4,
 "nbformat_minor": 5
}
